{
 "cells": [
  {
   "cell_type": "markdown",
   "metadata": {},
   "source": [
    "This assignment represents my own work. I did not work on this assignment with others. All coding was done by myself.\n",
    "\n",
    "I understand that if I struggle with this assignment that I will reevaluate whether this is the correct class for me to take. I understand that the homework only gets harder.\n",
    "\n",
    "# CS 671: Homework 1\n",
    "### Alex Kumar"
   ]
  },
  {
   "cell_type": "markdown",
   "metadata": {},
   "source": [
    "### Question 3"
   ]
  },
  {
   "cell_type": "code",
   "execution_count": 44,
   "metadata": {},
   "outputs": [],
   "source": [
    "# Imports\n",
    "import numpy as np\n",
    "import matplotlib.pyplot as plt"
   ]
  },
  {
   "cell_type": "code",
   "execution_count": 45,
   "metadata": {},
   "outputs": [],
   "source": [
    "# Define global variables\n",
    "DATA = np.array([[20, 1, 0, 20, 0],\n",
    "                [18, 1, 1, 33, 0],\n",
    "                [11, 0, 1, 21, 1],\n",
    "                [31, 0, 0, 18, 1],\n",
    "                [19, 1, 1, 7, 1],\n",
    "                [21, 1, 0, 10, 0],\n",
    "                [44, 1, 0, 23, 1],\n",
    "                [15, 1, 1, 16, 0],\n",
    "                [16, 0, 1, 15, 1],\n",
    "                [17, 1, 0, 6, 0]])\n",
    "COEF = np.array([0.05, -3, 2.1, 0.008])\n",
    "K = 0.3"
   ]
  },
  {
   "cell_type": "code",
   "execution_count": 46,
   "metadata": {},
   "outputs": [],
   "source": [
    "# Base functions\n",
    "def g(x): \n",
    "    return np.dot(COEF, x) + K\n",
    "\n",
    "def f(x):\n",
    "    return np.tanh(g(x))"
   ]
  },
  {
   "cell_type": "code",
   "execution_count": 47,
   "metadata": {},
   "outputs": [],
   "source": [
    "# Data Helper Functions\n",
    "\n",
    "# Calculate data values\n",
    "def getData():\n",
    "    gs, fs, ys = [], [], []\n",
    "    for x in DATA:\n",
    "        ys.append(x[-1])\n",
    "        gs.append(round(g(x[:-1]), 3))\n",
    "        fs.append(round(f(x[:-1]), 3))\n",
    "    return gs, fs, ys\n",
    "\n",
    "# Make matrix with function and y values\n",
    "def makePairs(x, y):\n",
    "    x, y = np.vstack(x), np.vstack(y)\n",
    "    return np.concatenate((x, y), axis=1)\n",
    "\n",
    "# Sort A by f(x) values\n",
    "def sorted(a):\n",
    "    temp = a.view(np.ndarray)\n",
    "    a_sort = temp[np.lexsort((temp[:, 0],))]\n",
    "    return a_sort, a_sort[:, 0]"
   ]
  },
  {
   "cell_type": "code",
   "execution_count": 48,
   "metadata": {},
   "outputs": [],
   "source": [
    "# Threshold Helper Functions\n",
    "\n",
    "# Return list of thresholds to iterate over\n",
    "def makeThresh(thresh):\n",
    "    thresh = np.insert(thresh, 0, thresh[0]-1)\n",
    "    thresh = np.insert(thresh, len(thresh), thresh[-1]+1)\n",
    "    return thresh\n",
    "\n",
    "# Calculate misclassification error for each thresh over the sorted dat\n",
    "def find_best(a, thresh): \n",
    "    error, total = [], len(a[:,1])\n",
    "    for t in thresh:\n",
    "        misclass = 0\n",
    "        for x in a:\n",
    "            if x[0] >= t:       # class pos\n",
    "                if x[1] != 1:   misclass += 1\n",
    "            else:               # class neg\n",
    "                if x[1] != 0:   misclass += 1\n",
    "        error.append(misclass/total)\n",
    "    return np.concatenate((np.vstack(thresh), np.vstack(error)), axis=1)\n",
    "\n",
    "# Find threshold(s) with lowest misclassification error\n",
    "def find_min(a):\n",
    "    curr_min, best = 1, []\n",
    "    for x in a:\n",
    "        if x[1] < curr_min:\n",
    "            curr_min = x[1]\n",
    "            best = [x[0]]\n",
    "        elif x[1] == curr_min:\n",
    "            best.append(x[0])     \n",
    "    return best, curr_min"
   ]
  },
  {
   "cell_type": "code",
   "execution_count": 49,
   "metadata": {},
   "outputs": [],
   "source": [
    "# Evalutation Helper Functions\n",
    "\n",
    "# Calculate confusion matrix for best threshold(s)\n",
    "def confusionMatrix(a, t):\n",
    "    confusion = [0, 0, 0, 0]    # [TP, FP, FN, TN]\n",
    "    for x in a:\n",
    "        if x[0] >= t:       # class pos\n",
    "                if x[1] != 1:   confusion[1] += 1   # FP\n",
    "                else:           confusion[0] += 1   # TP\n",
    "        else:               # class neg\n",
    "            if x[1] != 0:       confusion[2] += 1   # FN\n",
    "            else:               confusion[3] += 1   # TN\n",
    "    return confusion\n",
    "\n",
    "# Precision\n",
    "def calcPrecision(c):\n",
    "    return c[0] / (c[0] + c[1])     # [TP, FP, FN, TN]\n",
    "\n",
    "# Recall\n",
    "def calcRecall(c):\n",
    "    return c[0] / (c[0] + c[2])\n",
    "\n",
    "# F1\n",
    "def calcF1(c):\n",
    "    p = calcPrecision(c)\n",
    "    r = calcRecall(c)\n",
    "    return 2 * ((p * r) / (p + r))"
   ]
  },
  {
   "cell_type": "code",
   "execution_count": 50,
   "metadata": {},
   "outputs": [],
   "source": [
    "# ROC Helper Functions\n",
    "\n",
    "# Find TPR and FPR for each threshold\n",
    "def findRates(a, thresh):\n",
    "    tprs, fprs = [], []\n",
    "    for t in thresh:\n",
    "        confusion = confusionMatrix(a, t)\n",
    "        tprs.append(calcRecall(confusion))\n",
    "        fprs.append(confusion[1] / (confusion[1] + confusion[3])) \n",
    "    return np.concatenate((np.vstack(thresh), np.vstack(tprs), np.vstack(fprs)), axis=1)\n",
    "\n",
    "# Generate ROC Curve\n",
    "def makeROC(rates, min_ts):\n",
    "    plt.plot(rates[:, 2], rates[:, 1], \"-o\")\n",
    "    for p in rates:\n",
    "        if p[0] in min_ts:\n",
    "            plt.plot(p[2], p[1], \"ro\")\n",
    "    plt.xlabel(\"FPR\")\n",
    "    plt.ylabel(\"TPR\")\n",
    "    plt.show()\n",
    "    return "
   ]
  },
  {
   "cell_type": "code",
   "execution_count": 51,
   "metadata": {},
   "outputs": [],
   "source": [
    "# Subroutine that runs for g(x) and f(x)\n",
    "def subroutine(x, y):\n",
    "    xy = makePairs(x, y)                            # prep data\n",
    "    x_sort, x_thresh = sorted(xy)                   # sort data\n",
    "    x_thresh = makeThresh(x_thresh)                 # make thresholds\n",
    "    x_error = find_best(x_sort, x_thresh)           # get misclass error forall t\n",
    "    x_min, min_val = find_min(x_error)              # find best t's\n",
    "    print(\"Min thresh: \", x_min, \"---> @ error of: \", min_val)\n",
    "\n",
    "    c_matrix = confusionMatrix(x_sort, x_min[0])    # ex confus matrix\n",
    "    precision = calcPrecision(c_matrix)             \n",
    "    recall = calcRecall(c_matrix)\n",
    "    f1 = calcF1(c_matrix)\n",
    "    print(\"[TP, FP, FN, TN]: \", c_matrix)\n",
    "    print(\"Precision: \", round(precision, 3), \"  |  Recall: \", round(recall, 3), \"  |  F1: \", round(f1, 3), \"\\n\")\n",
    "\n",
    "    roc_matrix = findRates(x_sort, x_thresh)        # tpr and fpr forall t\n",
    "    makeROC(roc_matrix, x_min)\n",
    "    return"
   ]
  },
  {
   "cell_type": "code",
   "execution_count": 52,
   "metadata": {},
   "outputs": [
    {
     "name": "stdout",
     "output_type": "stream",
     "text": [
      "\n",
      " G time!\n",
      "Min thresh:  [-0.316, 0.406, 1.994] ---> @ error of:  0.2\n",
      "[TP, FP, FN, TN]:  [5, 2, 0, 3]\n",
      "Precision:  0.714   |  Recall:  1.0   |  F1:  0.833 \n",
      "\n"
     ]
    },
    {
     "data": {
      "image/png": "[encoded data removed]",
      "text/plain": [
       "<Figure size 640x480 with 1 Axes>"
      ]
     },
     "metadata": {},
     "output_type": "display_data"
    },
    {
     "name": "stdout",
     "output_type": "stream",
     "text": [
      "\n",
      " F time!\n",
      "Min thresh:  [-0.306, 0.385, 0.964] ---> @ error of:  0.2\n",
      "[TP, FP, FN, TN]:  [5, 2, 0, 3]\n",
      "Precision:  0.714   |  Recall:  1.0   |  F1:  0.833 \n",
      "\n"
     ]
    },
    {
     "data": {
      "image/png": "[encoded data removed]",
      "text/plain": [
       "<Figure size 640x480 with 1 Axes>"
      ]
     },
     "metadata": {},
     "output_type": "display_data"
    }
   ],
   "source": [
    "# Main function\n",
    "def main():\n",
    "    gs, fs, ys = getData()\n",
    "    print(\"\\n G time!\")\n",
    "    subroutine(gs, ys)\n",
    "    print(\"\\n F time!\")\n",
    "    subroutine(fs, ys)\n",
    "    return\n",
    "\n",
    "# Run main\n",
    "if __name__ == \"__main__\":\n",
    "    main()"
   ]
  }
 ],
 "metadata": {
  "kernelspec": {
   "display_name": "Python 3.8.11 ('base')",
   "language": "python",
   "name": "python3"
  },
  "language_info": {
   "codemirror_mode": {
    "name": "ipython",
    "version": 3
   },
   "file_extension": ".py",
   "mimetype": "text/x-python",
   "name": "python",
   "nbconvert_exporter": "python",
   "pygments_lexer": "ipython3",
   "version": "3.8.11"
  },
  "vscode": {
   "interpreter": {
    "hash": "851fec3bcd0aee0b1bfa1b82c1ab8d3d9e4dc256454ac46a585b0f97f9328639"
   }
  }
 },
 "nbformat": 4,
 "nbformat_minor": 4
}
