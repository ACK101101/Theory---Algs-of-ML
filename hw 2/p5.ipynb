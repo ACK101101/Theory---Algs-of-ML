{
 "cells": [
  {
   "cell_type": "markdown",
   "metadata": {},
   "source": [
    "This assignment represents my own work. I did not work on this assignment with others. All coding was done by myself.\n",
    "\n",
    "I understand that if I struggle with this assignment that I will reevaluate whether this is the correct class for me to take. I understand that the homework only gets harder.\n",
    "\n",
    "# CS 671: Homework 2\n",
    "### Alex Kumar\n",
    "\n",
    "### Question 5"
   ]
  },
  {
   "cell_type": "code",
   "execution_count": 41,
   "metadata": {},
   "outputs": [],
   "source": [
    "### Imports\n",
    "import math as m\n",
    "import csv\n",
    "from sklearn.model_selection import train_test_split"
   ]
  },
  {
   "cell_type": "code",
   "execution_count": 42,
   "metadata": {},
   "outputs": [],
   "source": [
    "### 5.2 Read files and preprocess\n",
    "# Make dictionary with key: word, value: index\n",
    "d = {}\n",
    "with open(\"dict.txt\") as f:\n",
    "    for word in f:\n",
    "        w, i = word.split()\n",
    "        d[w] = i\n",
    "\n",
    "\n",
    "def dictMaker(line, d):\n",
    "    # Make dict for x_i: key: word index, value: indicator\n",
    "    temp_d = {}\n",
    "    for word in line.split(\" \"):\n",
    "        if word in d:\n",
    "            temp_d[d[word]] = 1\n",
    "    return temp_d\n",
    "\n",
    "X, y = [], []\n",
    "# Read each line and process data\n",
    "with open(\"moviereview.tsv\") as f:\n",
    "    tsv = csv.reader(f, delimiter=\"\\t\")\n",
    "    for line in tsv:\n",
    "        temp_d = dictMaker(line[1], d)\n",
    "        X.append(temp_d)                    # dict\n",
    "        y.append(int(line[0]))              # label"
   ]
  },
  {
   "cell_type": "code",
   "execution_count": 43,
   "metadata": {},
   "outputs": [
    {
     "name": "stdout",
     "output_type": "stream",
     "text": [
      "########## EPOCH:  0  ###########\n",
      "########## EPOCH:  1  ###########\n",
      "########## EPOCH:  2  ###########\n",
      "########## EPOCH:  3  ###########\n",
      "########## EPOCH:  4  ###########\n",
      "########## EPOCH:  5  ###########\n",
      "########## EPOCH:  6  ###########\n",
      "########## EPOCH:  7  ###########\n",
      "########## EPOCH:  8  ###########\n",
      "########## EPOCH:  9  ###########\n",
      "########## EPOCH:  10  ###########\n",
      "########## EPOCH:  11  ###########\n",
      "########## EPOCH:  12  ###########\n",
      "########## EPOCH:  13  ###########\n",
      "########## EPOCH:  14  ###########\n",
      "########## EPOCH:  15  ###########\n",
      "########## EPOCH:  16  ###########\n",
      "########## EPOCH:  17  ###########\n",
      "########## EPOCH:  18  ###########\n",
      "########## EPOCH:  19  ###########\n",
      "########## EPOCH:  20  ###########\n",
      "########## EPOCH:  21  ###########\n",
      "########## EPOCH:  22  ###########\n",
      "########## EPOCH:  23  ###########\n",
      "########## EPOCH:  24  ###########\n",
      "########## EPOCH:  25  ###########\n",
      "########## EPOCH:  26  ###########\n",
      "########## EPOCH:  27  ###########\n",
      "########## EPOCH:  28  ###########\n",
      "########## EPOCH:  29  ###########\n"
     ]
    }
   ],
   "source": [
    "### 5.3 Binary logistic regression\n",
    "T, nu, theta = 30, 0.1, {}\n",
    "\n",
    "x_train, x_test, y_train, y_test = train_test_split(X, y, test_size=0.2, random_state=0)\n",
    "\n",
    "for k in d.keys():\n",
    "    # dict with key: word idx, value: init 0\n",
    "    theta[d[k]] = 0                   \n",
    "\n",
    "def dotprod(theta, x_i):\n",
    "    # dot product of theta and x_i\n",
    "    total = 0 \n",
    "    for idx in x_i.keys():\n",
    "        total += theta[idx]\n",
    "    return total\n",
    "    \n",
    "for i in range(T):\n",
    "    print(\"########## EPOCH: \", i, \" ###########\")\n",
    "    for i in range(len(x_train)):\n",
    "        x_i, y_i = x_train[i], y_train[i]   # [x: dict, y: label]\n",
    "        \n",
    "        dotproduct = dotprod(theta, x_i)\n",
    "        p_i = -y_i + ( (m.e**(dotproduct)) / (1 + m.e**(dotproduct)) )\n",
    "            \n",
    "        for j in x_i.keys():\n",
    "            theta[j] = theta[j] - nu * p_i\n",
    "\n"
   ]
  },
  {
   "cell_type": "code",
   "execution_count": 44,
   "metadata": {},
   "outputs": [
    {
     "name": "stdout",
     "output_type": "stream",
     "text": [
      "[TP, FP, FN, TN]:  [102, 8, 23, 107]\n"
     ]
    }
   ],
   "source": [
    "### Predictions \n",
    "def updateConfusion(confusion, pred, y):\n",
    "    if y == 1:                  # P\n",
    "        if pred >= 0.5:           # TP\n",
    "            confusion[0] += 1\n",
    "        else:                   # FP\n",
    "            confusion[1] += 1\n",
    "    else:                       # N\n",
    "        if pred < 0.5:            # TN\n",
    "            confusion[3] += 1\n",
    "        else:                   # FN\n",
    "            confusion[2] += 1\n",
    "    return confusion\n",
    "    \n",
    "    \n",
    "confusion = [0, 0, 0, 0]        # [TP, FP, FN, TN]\n",
    "for i in range(len(x_test)):\n",
    "    x, y = x_test[i], y_test[i]\n",
    "\n",
    "    dot = dotprod(theta, x)\n",
    "    pred = m.e**(dot) / (1 + m.e**(dot))\n",
    "    \n",
    "    confusion = updateConfusion(confusion, pred, y)\n",
    "print(\"[TP, FP, FN, TN]: \", confusion)\n",
    "\n",
    "    "
   ]
  },
  {
   "cell_type": "code",
   "execution_count": null,
   "metadata": {},
   "outputs": [],
   "source": []
  }
 ],
 "metadata": {
  "kernelspec": {
   "display_name": "Python 3.8.11 ('base')",
   "language": "python",
   "name": "python3"
  },
  "language_info": {
   "codemirror_mode": {
    "name": "ipython",
    "version": 3
   },
   "file_extension": ".py",
   "mimetype": "text/x-python",
   "name": "python",
   "nbconvert_exporter": "python",
   "pygments_lexer": "ipython3",
   "version": "3.8.11"
  },
  "orig_nbformat": 4,
  "vscode": {
   "interpreter": {
    "hash": "851fec3bcd0aee0b1bfa1b82c1ab8d3d9e4dc256454ac46a585b0f97f9328639"
   }
  }
 },
 "nbformat": 4,
 "nbformat_minor": 2
}
